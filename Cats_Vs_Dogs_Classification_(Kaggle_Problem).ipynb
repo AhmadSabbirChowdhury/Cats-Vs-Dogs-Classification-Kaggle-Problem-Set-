{
  "nbformat": 4,
  "nbformat_minor": 0,
  "metadata": {
    "colab": {
      "name": "Cats Vs Dogs Classification (Kaggle Problem).ipynb",
      "provenance": [],
      "collapsed_sections": [],
      "authorship_tag": "ABX9TyNh+pqtC5NnWUSFni9t0JWy"
    },
    "kernelspec": {
      "name": "python3",
      "display_name": "Python 3"
    },
    "accelerator": "GPU"
  },
  "cells": [
    {
      "cell_type": "code",
      "metadata": {
        "id": "5OmqOb5BlU2C",
        "colab_type": "code",
        "colab": {
          "base_uri": "https://localhost:8080/",
          "height": 187
        },
        "outputId": "ab65ade4-7fca-4bec-b2bd-3eb526ef0f7e"
      },
      "source": [
        "import os\n",
        "os.environ['KAGGLE_USERNAME'] = \"yourusername\" #username from the json file\n",
        "os.environ['KAGGLE_KEY'] = \"yourKey\" #key from the json file \n",
        "!kaggle competitions download -c dogs-vs-cats #api copied from kaggle"
      ],
      "execution_count": 1,
      "outputs": [
        {
          "output_type": "stream",
          "text": [
            "Warning: Looks like you're using an outdated API Version, please consider updating (server 1.5.6 / client 1.5.4)\n",
            "Downloading train.zip to /content\n",
            "100% 543M/543M [00:05<00:00, 132MB/s]\n",
            "\n",
            "Downloading test1.zip to /content\n",
            " 92% 250M/271M [00:04<00:00, 54.2MB/s]\n",
            "100% 271M/271M [00:04<00:00, 58.1MB/s]\n",
            "Downloading sampleSubmission.csv to /content\n",
            "  0% 0.00/86.8k [00:00<?, ?B/s]\n",
            "100% 86.8k/86.8k [00:00<00:00, 76.0MB/s]\n"
          ],
          "name": "stdout"
        }
      ]
    },
    {
      "cell_type": "code",
      "metadata": {
        "id": "_CRwdUbBopsW",
        "colab_type": "code",
        "colab": {
          "base_uri": "https://localhost:8080/",
          "height": 34
        },
        "outputId": "cf0aa1d6-8d3f-474e-c9b9-e0b6e5e6eae0"
      },
      "source": [
        "#Upload the data by extracting from the train file\n",
        "from zipfile import ZipFile\n",
        "\n",
        "file_name = '/content/train.zip'\n",
        "\n",
        "with ZipFile(file_name, 'r') as zip:\n",
        "  zip.extractall()\n",
        "  print(\"Extraction Complete\")"
      ],
      "execution_count": 2,
      "outputs": [
        {
          "output_type": "stream",
          "text": [
            "Extraction Complete\n"
          ],
          "name": "stdout"
        }
      ]
    },
    {
      "cell_type": "code",
      "metadata": {
        "id": "AMuO3T-Iydcu",
        "colab_type": "code",
        "colab": {
          "base_uri": "https://localhost:8080/",
          "height": 214
        },
        "outputId": "5af16310-00c6-4877-88cf-52a01dc1f300"
      },
      "source": [
        "data_dir_list = os.listdir('/content/train')\n",
        "#print(data_dir_list)\n",
        "\n",
        "path, dirs, files = next(os.walk(\"/content/train\")) #allows us to generate file names\n",
        "file_count = len(files)\n",
        "print(file_count)\n",
        "\n",
        "original_dataset_dir = '/content/train'\n",
        "base_dir = '/content/cats_and_dogs_small' #making a copy folder for train data\n",
        "os.mkdir(base_dir)"
      ],
      "execution_count": 7,
      "outputs": [
        {
          "output_type": "stream",
          "text": [
            "25000\n"
          ],
          "name": "stdout"
        },
        {
          "output_type": "error",
          "ename": "FileExistsError",
          "evalue": "ignored",
          "traceback": [
            "\u001b[0;31m---------------------------------------------------------------------------\u001b[0m",
            "\u001b[0;31mFileExistsError\u001b[0m                           Traceback (most recent call last)",
            "\u001b[0;32m<ipython-input-7-1432fc18f4a7>\u001b[0m in \u001b[0;36m<module>\u001b[0;34m()\u001b[0m\n\u001b[1;32m      8\u001b[0m \u001b[0moriginal_dataset_dir\u001b[0m \u001b[0;34m=\u001b[0m \u001b[0;34m'/content/train'\u001b[0m\u001b[0;34m\u001b[0m\u001b[0;34m\u001b[0m\u001b[0m\n\u001b[1;32m      9\u001b[0m \u001b[0mbase_dir\u001b[0m \u001b[0;34m=\u001b[0m \u001b[0;34m'/content/cats_and_dogs_small'\u001b[0m\u001b[0;34m\u001b[0m\u001b[0;34m\u001b[0m\u001b[0m\n\u001b[0;32m---> 10\u001b[0;31m \u001b[0mos\u001b[0m\u001b[0;34m.\u001b[0m\u001b[0mmkdir\u001b[0m\u001b[0;34m(\u001b[0m\u001b[0mbase_dir\u001b[0m\u001b[0;34m)\u001b[0m\u001b[0;34m\u001b[0m\u001b[0;34m\u001b[0m\u001b[0m\n\u001b[0m",
            "\u001b[0;31mFileExistsError\u001b[0m: [Errno 17] File exists: '/content/cats_and_dogs_small'"
          ]
        }
      ]
    },
    {
      "cell_type": "code",
      "metadata": {
        "id": "sTsftvYgyn0-",
        "colab_type": "code",
        "colab": {}
      },
      "source": [
        "#from main folder, we're dividing the data into \"train\",\"validate\" and \"test\"\n",
        "train_dir = os.path.join(base_dir, 'train')\n",
        "os.mkdir(train_dir)\n",
        "\n",
        "validation_dir = os.path.join(base_dir, 'validation')\n",
        "os.mkdir(validation_dir)\n",
        "\n",
        "test_dir = os.path.join(base_dir, 'test')\n",
        "os.mkdir(test_dir)\n",
        "\n",
        "#in new \"train\",\"validate\" and \"test\" dir, we're creating seperate dir for cats and dogs\n",
        "train_cats_dir = os.path.join(train_dir, 'cats')\n",
        "os.mkdir(train_cats_dir)\n",
        "\n",
        "train_dogs_dir = os.path.join(train_dir, 'dogs')\n",
        "os.mkdir(train_dogs_dir)\n",
        "\n",
        "validation_cats_dir = os.path.join(validation_dir, 'cats')\n",
        "os.mkdir(validation_cats_dir)\n",
        "\n",
        "validation_dogs_dir = os.path.join(validation_dir, 'dogs')\n",
        "os.mkdir(validation_dogs_dir)\n",
        "\n",
        "test_cats_dir = os.path.join(test_dir, 'cats')\n",
        "os.mkdir(test_cats_dir)\n",
        "\n",
        "test_dogs_dir = os.path.join(test_dir, 'dogs')\n",
        "os.mkdir(test_dogs_dir)"
      ],
      "execution_count": 0,
      "outputs": []
    },
    {
      "cell_type": "code",
      "metadata": {
        "id": "CR7DxwOn1OGy",
        "colab_type": "code",
        "colab": {}
      },
      "source": [
        "import shutil\n",
        "fnames = ['cat.{}.jpg'.format(i) for i in range(1000)]  #1000 images for training\n",
        "for fname in fnames:\n",
        "    src = os.path.join(original_dataset_dir, fname)\n",
        "    dst = os.path.join(train_cats_dir, fname)\n",
        "    #print(src,dst)\n",
        "    shutil.copyfile(src, dst)\n",
        "    \n",
        "fnames = ['cat.{}.jpg'.format(i) for i in range(1000, 1500)]  #500 images for validate\n",
        "for fname in fnames:\n",
        "    src = os.path.join(original_dataset_dir, fname)\n",
        "    dst = os.path.join(validation_cats_dir, fname)\n",
        "    shutil.copyfile(src, dst)\n",
        "\n",
        "fnames = ['cat.{}.jpg'.format(i) for i in range(1500, 2000)]  #500 cat images for testing\n",
        "for fname in fnames:\n",
        "    src = os.path.join(original_dataset_dir, fname)\n",
        "    dst = os.path.join(test_cats_dir, fname)\n",
        "    shutil.copyfile(src, dst)\n",
        "    \n",
        "fnames = ['dog.{}.jpg'.format(i) for i in range(1000)]  #1000 dog images for training\n",
        "for fname in fnames:\n",
        "    src = os.path.join(original_dataset_dir, fname)\n",
        "    dst = os.path.join(train_dogs_dir, fname)\n",
        "    shutil.copyfile(src, dst)\n",
        "\n",
        "fnames = ['dog.{}.jpg'.format(i) for i in range(1000, 1500)] #1000 dog images for validate\n",
        "for fname in fnames:\n",
        "    src = os.path.join(original_dataset_dir, fname)\n",
        "    dst = os.path.join(validation_dogs_dir, fname)\n",
        "    shutil.copyfile(src, dst)\n",
        "\n",
        "fnames = ['dog.{}.jpg'.format(i) for i in range(1500, 2000)]  #1000 dog images for testing\n",
        "for fname in fnames:\n",
        "    src = os.path.join(original_dataset_dir, fname)\n",
        "    dst = os.path.join(test_dogs_dir, fname)\n",
        "    shutil.copyfile(src, dst)"
      ],
      "execution_count": 0,
      "outputs": []
    },
    {
      "cell_type": "code",
      "metadata": {
        "id": "N3_Uu_OR5BFp",
        "colab_type": "code",
        "colab": {
          "base_uri": "https://localhost:8080/",
          "height": 119
        },
        "outputId": "1e935d76-3cc8-4efd-eb32-132dad910b92"
      },
      "source": [
        "print('Total training cat images:', len(os.listdir(train_cats_dir)))\n",
        "print('Total training dog images:', len(os.listdir(train_dogs_dir)))\n",
        "\n",
        "print('Total validation cat images:', len(os.listdir(validation_cats_dir)))\n",
        "print('Total validation dog images:', len(os.listdir(validation_dogs_dir)))\n",
        "\n",
        "print('Total test cat images:', len(os.listdir(test_cats_dir)))\n",
        "print('Total test dog images:', len(os.listdir(test_dogs_dir)))"
      ],
      "execution_count": 10,
      "outputs": [
        {
          "output_type": "stream",
          "text": [
            "Total training cat images: 1000\n",
            "Total training dog images: 1000\n",
            "Total validation cat images: 500\n",
            "Total validation dog images: 500\n",
            "Total test cat images: 500\n",
            "Total test dog images: 500\n"
          ],
          "name": "stdout"
        }
      ]
    },
    {
      "cell_type": "code",
      "metadata": {
        "id": "nk_gdRXB6Epm",
        "colab_type": "code",
        "colab": {
          "base_uri": "https://localhost:8080/",
          "height": 544
        },
        "outputId": "59328056-887d-4bcb-f326-71cf112dce2a"
      },
      "source": [
        "from keras import layers\n",
        "from keras import models\n",
        "\n",
        "model = models.Sequential()\n",
        "\n",
        "#Feature Engineering Part\n",
        "model.add(layers.Conv2D(32, (3, 3), activation='relu', input_shape=(150, 150, 3)))  #(N-F)+1\n",
        "model.add(layers.MaxPooling2D((2, 2)))\n",
        "model.add(layers.Conv2D(64, (3, 3), activation='relu'))\n",
        "model.add(layers.MaxPooling2D((2, 2)))\n",
        "model.add(layers.Conv2D(128, (3, 3), activation='relu'))\n",
        "model.add(layers.MaxPooling2D((2, 2)))\n",
        "model.add(layers.Conv2D(128, (3, 3), activation='relu'))\n",
        "model.add(layers.MaxPooling2D((2, 2)))\n",
        "\n",
        "model.add(layers.Flatten())\n",
        "model.add(layers.Dense(512, activation='relu'))\n",
        "model.add(layers.Dense(1, activation='sigmoid'))\n",
        "model.summary()"
      ],
      "execution_count": 11,
      "outputs": [
        {
          "output_type": "stream",
          "text": [
            "Using TensorFlow backend.\n"
          ],
          "name": "stderr"
        },
        {
          "output_type": "stream",
          "text": [
            "Model: \"sequential_1\"\n",
            "_________________________________________________________________\n",
            "Layer (type)                 Output Shape              Param #   \n",
            "=================================================================\n",
            "conv2d_1 (Conv2D)            (None, 148, 148, 32)      896       \n",
            "_________________________________________________________________\n",
            "max_pooling2d_1 (MaxPooling2 (None, 74, 74, 32)        0         \n",
            "_________________________________________________________________\n",
            "conv2d_2 (Conv2D)            (None, 72, 72, 64)        18496     \n",
            "_________________________________________________________________\n",
            "max_pooling2d_2 (MaxPooling2 (None, 36, 36, 64)        0         \n",
            "_________________________________________________________________\n",
            "conv2d_3 (Conv2D)            (None, 34, 34, 128)       73856     \n",
            "_________________________________________________________________\n",
            "max_pooling2d_3 (MaxPooling2 (None, 17, 17, 128)       0         \n",
            "_________________________________________________________________\n",
            "conv2d_4 (Conv2D)            (None, 15, 15, 128)       147584    \n",
            "_________________________________________________________________\n",
            "max_pooling2d_4 (MaxPooling2 (None, 7, 7, 128)         0         \n",
            "_________________________________________________________________\n",
            "flatten_1 (Flatten)          (None, 6272)              0         \n",
            "_________________________________________________________________\n",
            "dense_1 (Dense)              (None, 512)               3211776   \n",
            "_________________________________________________________________\n",
            "dense_2 (Dense)              (None, 1)                 513       \n",
            "=================================================================\n",
            "Total params: 3,453,121\n",
            "Trainable params: 3,453,121\n",
            "Non-trainable params: 0\n",
            "_________________________________________________________________\n"
          ],
          "name": "stdout"
        }
      ]
    },
    {
      "cell_type": "code",
      "metadata": {
        "id": "_sFnVo7P9dth",
        "colab_type": "code",
        "colab": {}
      },
      "source": [
        "#Compiling the Model, so that Loss Function is reduced and y==y'\n",
        "from keras import optimizers\n",
        "model.compile(loss='binary_crossentropy', \n",
        "              optimizer=optimizers.RMSprop(lr=1e-4),\n",
        "              metrics=['acc'])"
      ],
      "execution_count": 0,
      "outputs": []
    },
    {
      "cell_type": "code",
      "metadata": {
        "id": "shV0l33FB0It",
        "colab_type": "code",
        "colab": {
          "base_uri": "https://localhost:8080/",
          "height": 51
        },
        "outputId": "2ea93f7e-8a39-4188-d9ed-e46918e8e0a2"
      },
      "source": [
        "#class ImageDataGenerator,which lets you quickly set up Python generators --\n",
        "#that can automatically turn image files on disk into batches of preprocessed tensors.\n",
        "from keras.preprocessing.image import ImageDataGenerator\n",
        "\n",
        "train_datagen = ImageDataGenerator(rescale=1./255)\n",
        "test_datagen = ImageDataGenerator(rescale=1./255)\n",
        "\n",
        "train_generator = train_datagen.flow_from_directory(train_dir,\n",
        "                                                    target_size=(150, 150), \n",
        "                                                    batch_size=20,\n",
        "                                                    class_mode='binary')\n",
        "\n",
        "validation_generator = test_datagen.flow_from_directory(validation_dir,\n",
        "                                                        target_size=(150, 150),\n",
        "                                                        batch_size=20,\n",
        "                                                        class_mode='binary')"
      ],
      "execution_count": 15,
      "outputs": [
        {
          "output_type": "stream",
          "text": [
            "Found 2000 images belonging to 2 classes.\n",
            "Found 1000 images belonging to 2 classes.\n"
          ],
          "name": "stdout"
        }
      ]
    },
    {
      "cell_type": "code",
      "metadata": {
        "id": "RPGdd57HDOzK",
        "colab_type": "code",
        "colab": {
          "base_uri": "https://localhost:8080/",
          "height": 1000
        },
        "outputId": "1e97a5f0-c4cc-444b-e8b6-9d78a7de0719"
      },
      "source": [
        "#fit the model to the data using the generator\n",
        "history = model.fit_generator(train_generator,\n",
        "                              steps_per_epoch=100,\n",
        "                              epochs=30,\n",
        "                              validation_data=validation_generator,\n",
        "                              validation_steps=10)\n",
        "\n",
        "model.save('cats_and_dogs_small_1.h5')"
      ],
      "execution_count": 16,
      "outputs": [
        {
          "output_type": "stream",
          "text": [
            "Epoch 1/30\n",
            "100/100 [==============================] - 13s 135ms/step - loss: 0.6885 - acc: 0.5115 - val_loss: 0.6709 - val_acc: 0.6100\n",
            "Epoch 2/30\n",
            "100/100 [==============================] - 8s 78ms/step - loss: 0.6440 - acc: 0.6220 - val_loss: 0.7400 - val_acc: 0.6200\n",
            "Epoch 3/30\n",
            "100/100 [==============================] - 8s 77ms/step - loss: 0.5923 - acc: 0.6785 - val_loss: 0.6389 - val_acc: 0.7050\n",
            "Epoch 4/30\n",
            "100/100 [==============================] - 8s 76ms/step - loss: 0.5584 - acc: 0.7210 - val_loss: 0.5639 - val_acc: 0.6950\n",
            "Epoch 5/30\n",
            "100/100 [==============================] - 8s 77ms/step - loss: 0.5312 - acc: 0.7275 - val_loss: 0.5075 - val_acc: 0.6850\n",
            "Epoch 6/30\n",
            "100/100 [==============================] - 8s 78ms/step - loss: 0.5058 - acc: 0.7450 - val_loss: 0.3576 - val_acc: 0.6850\n",
            "Epoch 7/30\n",
            "100/100 [==============================] - 8s 78ms/step - loss: 0.4836 - acc: 0.7650 - val_loss: 0.5942 - val_acc: 0.7250\n",
            "Epoch 8/30\n",
            "100/100 [==============================] - 8s 79ms/step - loss: 0.4611 - acc: 0.7825 - val_loss: 0.6188 - val_acc: 0.6950\n",
            "Epoch 9/30\n",
            "100/100 [==============================] - 8s 78ms/step - loss: 0.4349 - acc: 0.7975 - val_loss: 0.6292 - val_acc: 0.7150\n",
            "Epoch 10/30\n",
            "100/100 [==============================] - 8s 79ms/step - loss: 0.4110 - acc: 0.8070 - val_loss: 0.4434 - val_acc: 0.7350\n",
            "Epoch 11/30\n",
            "100/100 [==============================] - 8s 78ms/step - loss: 0.3890 - acc: 0.8195 - val_loss: 0.5455 - val_acc: 0.7350\n",
            "Epoch 12/30\n",
            "100/100 [==============================] - 8s 78ms/step - loss: 0.3657 - acc: 0.8420 - val_loss: 0.5087 - val_acc: 0.7400\n",
            "Epoch 13/30\n",
            "100/100 [==============================] - 8s 77ms/step - loss: 0.3393 - acc: 0.8540 - val_loss: 0.4757 - val_acc: 0.7650\n",
            "Epoch 14/30\n",
            "100/100 [==============================] - 8s 77ms/step - loss: 0.3192 - acc: 0.8655 - val_loss: 0.5945 - val_acc: 0.7050\n",
            "Epoch 15/30\n",
            "100/100 [==============================] - 8s 77ms/step - loss: 0.2935 - acc: 0.8800 - val_loss: 0.7743 - val_acc: 0.7100\n",
            "Epoch 16/30\n",
            "100/100 [==============================] - 8s 77ms/step - loss: 0.2787 - acc: 0.8870 - val_loss: 0.5164 - val_acc: 0.7650\n",
            "Epoch 17/30\n",
            "100/100 [==============================] - 8s 76ms/step - loss: 0.2587 - acc: 0.8940 - val_loss: 0.8628 - val_acc: 0.7350\n",
            "Epoch 18/30\n",
            "100/100 [==============================] - 8s 76ms/step - loss: 0.2361 - acc: 0.9090 - val_loss: 0.4149 - val_acc: 0.7500\n",
            "Epoch 19/30\n",
            "100/100 [==============================] - 8s 76ms/step - loss: 0.2186 - acc: 0.9120 - val_loss: 0.7404 - val_acc: 0.7250\n",
            "Epoch 20/30\n",
            "100/100 [==============================] - 8s 76ms/step - loss: 0.1949 - acc: 0.9285 - val_loss: 0.6449 - val_acc: 0.7050\n",
            "Epoch 21/30\n",
            "100/100 [==============================] - 8s 77ms/step - loss: 0.1736 - acc: 0.9375 - val_loss: 0.4240 - val_acc: 0.7600\n",
            "Epoch 22/30\n",
            "100/100 [==============================] - 8s 76ms/step - loss: 0.1623 - acc: 0.9425 - val_loss: 0.4561 - val_acc: 0.7250\n",
            "Epoch 23/30\n",
            "100/100 [==============================] - 8s 76ms/step - loss: 0.1422 - acc: 0.9535 - val_loss: 0.6392 - val_acc: 0.7650\n",
            "Epoch 24/30\n",
            "100/100 [==============================] - 8s 77ms/step - loss: 0.1207 - acc: 0.9615 - val_loss: 0.8433 - val_acc: 0.7100\n",
            "Epoch 25/30\n",
            "100/100 [==============================] - 8s 76ms/step - loss: 0.1100 - acc: 0.9645 - val_loss: 1.3208 - val_acc: 0.7150\n",
            "Epoch 26/30\n",
            "100/100 [==============================] - 8s 77ms/step - loss: 0.0975 - acc: 0.9710 - val_loss: 0.9119 - val_acc: 0.7300\n",
            "Epoch 27/30\n",
            "100/100 [==============================] - 8s 76ms/step - loss: 0.0797 - acc: 0.9800 - val_loss: 1.2414 - val_acc: 0.7250\n",
            "Epoch 28/30\n",
            "100/100 [==============================] - 8s 77ms/step - loss: 0.0734 - acc: 0.9785 - val_loss: 0.3351 - val_acc: 0.7750\n",
            "Epoch 29/30\n",
            "100/100 [==============================] - 8s 76ms/step - loss: 0.0703 - acc: 0.9815 - val_loss: 0.2982 - val_acc: 0.7850\n",
            "Epoch 30/30\n",
            "100/100 [==============================] - 8s 76ms/step - loss: 0.0635 - acc: 0.9835 - val_loss: 0.2130 - val_acc: 0.7150\n"
          ],
          "name": "stdout"
        }
      ]
    },
    {
      "cell_type": "code",
      "metadata": {
        "id": "rpX6Jbw8Ex46",
        "colab_type": "code",
        "colab": {
          "base_uri": "https://localhost:8080/",
          "height": 545
        },
        "outputId": "9859952b-cdc2-435c-fde0-ae37da297188"
      },
      "source": [
        "import matplotlib.pyplot as plt\n",
        "\n",
        "acc = history.history['acc']\n",
        "val_acc = history.history['val_acc']\n",
        "loss = history.history['loss']\n",
        "val_loss = history.history['val_loss']\n",
        "\n",
        "epochs = range(1, len(acc) + 1)\n",
        "\n",
        "plt.plot(epochs, acc, 'bo', label='Training acc')\n",
        "plt.plot(epochs, val_acc, 'b', label='Validation acc')\n",
        "plt.title('Training and validation accuracy')\n",
        "plt.legend()\n",
        "\n",
        "plt.figure()\n",
        "\n",
        "plt.plot(epochs, loss, 'bo', label='Training loss')\n",
        "plt.plot(epochs, val_loss, 'b', label='Validation loss')\n",
        "plt.title('Training and validation loss')\n",
        "plt.legend()\n",
        "\n",
        "plt.show()"
      ],
      "execution_count": 17,
      "outputs": [
        {
          "output_type": "display_data",
          "data": {
            "image/png": "[encoded data removed]",
            "text/plain": [
              "<Figure size 432x288 with 1 Axes>"
            ]
          },
          "metadata": {
            "tags": [],
            "needs_background": "light"
          }
        },
        {
          "output_type": "display_data",
          "data": {
            "image/png": "[encoded data removed]",
            "text/plain": [
              "<Figure size 432x288 with 1 Axes>"
            ]
          },
          "metadata": {
            "tags": [],
            "needs_background": "light"
          }
        }
      ]
    },
    {
      "cell_type": "code",
      "metadata": {
        "id": "GAr7jl6yGhiU",
        "colab_type": "code",
        "colab": {}
      },
      "source": [
        "#added just the 'Dropout' to cancel the 'overfitting'\n",
        "model = models.Sequential()\n",
        "model.add(layers.Conv2D(32, (3, 3), activation='relu',\n",
        "input_shape=(150, 150, 3)))\n",
        "model.add(layers.MaxPooling2D((2, 2)))\n",
        "model.add(layers.Conv2D(64, (3, 3), activation='relu'))\n",
        "model.add(layers.MaxPooling2D((2, 2)))\n",
        "model.add(layers.Conv2D(128, (3, 3), activation='relu'))\n",
        "model.add(layers.MaxPooling2D((2, 2)))\n",
        "model.add(layers.Conv2D(128, (3, 3), activation='relu'))\n",
        "model.add(layers.MaxPooling2D((2, 2)))\n",
        "model.add(layers.Flatten())\n",
        "model.add(layers.Dropout(0.5))  #added just the 'Dropout' to cancel the 'overfitting'\n",
        "model.add(layers.Dense(512, activation='relu'))\n",
        "model.add(layers.Dense(1, activation='sigmoid'))\n",
        "\n",
        "model.compile(loss='binary_crossentropy',\n",
        "              optimizer=optimizers.RMSprop(lr=1e-4),\n",
        "              metrics=['acc'])\n"
      ],
      "execution_count": 0,
      "outputs": []
    },
    {
      "cell_type": "code",
      "metadata": {
        "id": "MJ2RjpwKG8Dy",
        "colab_type": "code",
        "colab": {
          "base_uri": "https://localhost:8080/",
          "height": 731
        },
        "outputId": "049f4781-54b0-42df-b074-9d8dde3fdd55"
      },
      "source": [
        "train_datagen = ImageDataGenerator(rescale=1./255,\n",
        "                                   rotation_range=40,\n",
        "                                   width_shift_range=0.2,\n",
        "                                   height_shift_range=0.2,\n",
        "                                   shear_range=0.2,\n",
        "                                   zoom_range=0.2,\n",
        "                                   horizontal_flip=True,)\n",
        "\n",
        "test_datagen = ImageDataGenerator(rescale=1./255)\n",
        "\n",
        "train_generator = train_datagen.flow_from_directory(train_dir,\n",
        "                                                    target_size=(150, 150),\n",
        "                                                    batch_size=32,\n",
        "                                                    class_mode='binary')\n",
        "\n",
        "validation_generator = test_datagen.flow_from_directory(validation_dir,\n",
        "                                                        target_size=(150, 150),\n",
        "                                                        batch_size=32,\n",
        "                                                        class_mode='binary')\n",
        "\n",
        "history = model.fit_generator(train_generator,\n",
        "                              steps_per_epoch=100,\n",
        "                              epochs=20,\n",
        "                              validation_data=validation_generator,\n",
        "                              validation_steps=50)"
      ],
      "execution_count": 20,
      "outputs": [
        {
          "output_type": "stream",
          "text": [
            "Found 2000 images belonging to 2 classes.\n",
            "Found 1000 images belonging to 2 classes.\n",
            "Epoch 1/20\n",
            "100/100 [==============================] - 34s 341ms/step - loss: 0.6921 - acc: 0.5262 - val_loss: 0.6529 - val_acc: 0.5476\n",
            "Epoch 2/20\n",
            "100/100 [==============================] - 31s 307ms/step - loss: 0.6764 - acc: 0.5682 - val_loss: 0.6847 - val_acc: 0.6128\n",
            "Epoch 3/20\n",
            "100/100 [==============================] - 30s 303ms/step - loss: 0.6591 - acc: 0.6057 - val_loss: 0.5545 - val_acc: 0.6104\n",
            "Epoch 4/20\n",
            "100/100 [==============================] - 31s 309ms/step - loss: 0.6506 - acc: 0.6076 - val_loss: 0.6764 - val_acc: 0.6418\n",
            "Epoch 5/20\n",
            "100/100 [==============================] - 29s 294ms/step - loss: 0.6374 - acc: 0.6307 - val_loss: 0.5693 - val_acc: 0.6066\n",
            "Epoch 6/20\n",
            "100/100 [==============================] - 32s 321ms/step - loss: 0.6274 - acc: 0.6449 - val_loss: 0.4727 - val_acc: 0.6695\n",
            "Epoch 7/20\n",
            "100/100 [==============================] - 31s 308ms/step - loss: 0.5999 - acc: 0.6690 - val_loss: 0.5994 - val_acc: 0.6986\n",
            "Epoch 8/20\n",
            "100/100 [==============================] - 30s 303ms/step - loss: 0.5922 - acc: 0.6787 - val_loss: 0.4266 - val_acc: 0.6920\n",
            "Epoch 9/20\n",
            "100/100 [==============================] - 30s 300ms/step - loss: 0.5893 - acc: 0.6726 - val_loss: 0.4778 - val_acc: 0.6991\n",
            "Epoch 10/20\n",
            "100/100 [==============================] - 30s 302ms/step - loss: 0.5802 - acc: 0.6941 - val_loss: 0.5888 - val_acc: 0.6536\n",
            "Epoch 11/20\n",
            "100/100 [==============================] - 31s 308ms/step - loss: 0.5784 - acc: 0.7005 - val_loss: 0.6417 - val_acc: 0.6707\n",
            "Epoch 12/20\n",
            "100/100 [==============================] - 30s 303ms/step - loss: 0.5652 - acc: 0.7004 - val_loss: 0.5322 - val_acc: 0.7176\n",
            "Epoch 13/20\n",
            "100/100 [==============================] - 30s 303ms/step - loss: 0.5486 - acc: 0.7266 - val_loss: 0.3873 - val_acc: 0.7313\n",
            "Epoch 14/20\n",
            "100/100 [==============================] - 30s 295ms/step - loss: 0.5537 - acc: 0.7123 - val_loss: 0.4637 - val_acc: 0.7176\n",
            "Epoch 15/20\n",
            "100/100 [==============================] - 29s 294ms/step - loss: 0.5336 - acc: 0.7266 - val_loss: 0.4678 - val_acc: 0.7120\n",
            "Epoch 16/20\n",
            "100/100 [==============================] - 30s 299ms/step - loss: 0.5501 - acc: 0.7146 - val_loss: 0.3560 - val_acc: 0.7101\n",
            "Epoch 17/20\n",
            "100/100 [==============================] - 28s 285ms/step - loss: 0.5396 - acc: 0.7246 - val_loss: 0.3761 - val_acc: 0.7011\n",
            "Epoch 18/20\n",
            "100/100 [==============================] - 33s 326ms/step - loss: 0.5272 - acc: 0.7336 - val_loss: 0.4965 - val_acc: 0.7249\n",
            "Epoch 19/20\n",
            "100/100 [==============================] - 30s 301ms/step - loss: 0.5228 - acc: 0.7437 - val_loss: 0.4994 - val_acc: 0.7272\n",
            "Epoch 20/20\n",
            "100/100 [==============================] - 29s 295ms/step - loss: 0.5173 - acc: 0.7443 - val_loss: 0.5962 - val_acc: 0.7390\n"
          ],
          "name": "stdout"
        }
      ]
    },
    {
      "cell_type": "code",
      "metadata": {
        "id": "vAf9JV5fpiB0",
        "colab_type": "code",
        "colab": {
          "base_uri": "https://localhost:8080/",
          "height": 545
        },
        "outputId": "07d8212f-d966-4e86-9b07-c5e9c05658f3"
      },
      "source": [
        "#Plotting after fixing Overfitting\n",
        "import matplotlib.pyplot as plt\n",
        "\n",
        "acc = history.history['acc']\n",
        "val_acc = history.history['val_acc']\n",
        "loss = history.history['loss']\n",
        "val_loss = history.history['val_loss']\n",
        "\n",
        "epochs = range(1, len(acc) + 1)\n",
        "\n",
        "plt.plot(epochs, acc, 'bo', label='Training acc')\n",
        "plt.plot(epochs, val_acc, 'b', label='Validation acc')\n",
        "plt.title('Training and validation accuracy')\n",
        "plt.legend()\n",
        "\n",
        "plt.figure()\n",
        "\n",
        "plt.plot(epochs, loss, 'bo', label='Training loss')\n",
        "plt.plot(epochs, val_loss, 'b', label='Validation loss')\n",
        "plt.title('Training and validation loss')\n",
        "plt.legend()\n",
        "\n",
        "plt.show()"
      ],
      "execution_count": 21,
      "outputs": [
        {
          "output_type": "display_data",
          "data": {
            "image/png": "[encoded data removed]",
            "text/plain": [
              "<Figure size 432x288 with 1 Axes>"
            ]
          },
          "metadata": {
            "tags": [],
            "needs_background": "light"
          }
        },
        {
          "output_type": "display_data",
          "data": {
            "image/png": "[encoded data removed]",
            "text/plain": [
              "<Figure size 432x288 with 1 Axes>"
            ]
          },
          "metadata": {
            "tags": [],
            "needs_background": "light"
          }
        }
      ]
    }
  ]
}